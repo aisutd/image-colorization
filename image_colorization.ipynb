{
 "cells": [
  {
   "cell_type": "markdown",
   "source": [
    "# Colorizing Grayscale Images Using Neural Networks"
   ],
   "metadata": {}
  },
  {
   "cell_type": "markdown",
   "source": [
    "## Import the necessary libraries"
   ],
   "metadata": {}
  },
  {
   "cell_type": "code",
   "execution_count": null,
   "source": [
    "import os\r\n",
    "import tensorflow as tf\r\n",
    "import keras\r\n",
    "from skimage.color import rgb2lab, lab2rgb, rgb2gray, xyz2lab\r\n",
    "from skimage.io import imsave\r\n",
    "from skimage.transform import resize\r\n",
    "import numpy as np\r\n",
    "import random\r\n",
    "from PIL import Image\r\n",
    "import requests"
   ],
   "outputs": [],
   "metadata": {}
  },
  {
   "cell_type": "markdown",
   "source": [
    "## Load in our training data"
   ],
   "metadata": {}
  },
  {
   "cell_type": "markdown",
   "source": [
    "We will specifically focus on colorizing images of landscapes.  First, let's focus on training our model on only one image."
   ],
   "metadata": {}
  },
  {
   "cell_type": "code",
   "execution_count": 38,
   "source": [
    "url = 'https://assets.website-files.com/5d315dd990eed30aa7ca5f8f/5d3d843acb7dfd63bcf37e29_tree-and-woodland-company-landscape.jpg'"
   ],
   "outputs": [],
   "metadata": {}
  },
  {
   "cell_type": "code",
   "execution_count": 39,
   "source": [
    "image = Image.open(requests.get(url, stream=True).raw)\r\n",
    "image.show()"
   ],
   "outputs": [],
   "metadata": {}
  },
  {
   "cell_type": "markdown",
   "source": [
    "## Preprocessing the input image"
   ],
   "metadata": {}
  },
  {
   "cell_type": "code",
   "execution_count": 40,
   "source": [
    "image = keras.preprocessing.image.img_to_array(image)\r\n",
    "image = np.array(image, dtype=float)\r\n",
    "image.shape"
   ],
   "outputs": [
    {
     "output_type": "execute_result",
     "data": {
      "text/plain": [
       "(1350, 2400, 3)"
      ]
     },
     "metadata": {},
     "execution_count": 40
    }
   ],
   "metadata": {}
  },
  {
   "cell_type": "code",
   "execution_count": 41,
   "source": [
    "input = rgb2lab(1.0/255*image)[:,:,0]\r\n",
    "input = resize(input, (400, 400))\r\n",
    "input = input.reshape((1, 400, 400, 1))"
   ],
   "outputs": [],
   "metadata": {}
  },
  {
   "cell_type": "code",
   "execution_count": 42,
   "source": [
    "output = rgb2lab(1.0/255*image)[:,:,1:]\r\n",
    "output /= 128\r\n",
    "output = resize(output, (400, 400, 2))\r\n",
    "output = output.reshape((1, 400, 400, 2))"
   ],
   "outputs": [],
   "metadata": {}
  },
  {
   "cell_type": "markdown",
   "source": [
    "## Build the Neural Network"
   ],
   "metadata": {}
  },
  {
   "cell_type": "code",
   "execution_count": 44,
   "source": [
    "model = tf.keras.Sequential([\r\n",
    "    tf.keras.layers.InputLayer(input_shape=(None,None,1)),\r\n",
    "    tf.keras.layers.Conv2D(8, (3, 3), activation='relu', padding='same', strides=2),\r\n",
    "    tf.keras.layers.Conv2D(8, (3, 3), activation='relu', padding='same'),\r\n",
    "    tf.keras.layers.Conv2D(16, (3, 3), activation='relu', padding='same'),\r\n",
    "    tf.keras.layers.Conv2D(16, (3, 3), activation='relu', padding='same', strides=2),\r\n",
    "    tf.keras.layers.Conv2D(32, (3, 3), activation='relu', padding='same'),\r\n",
    "    tf.keras.layers.Conv2D(32, (3, 3), activation='relu', padding='same', strides=2),\r\n",
    "    tf.keras.layers.UpSampling2D((2, 2)),\r\n",
    "    tf.keras.layers.Conv2D(32, (3, 3), activation='relu', padding='same'),\r\n",
    "    tf.keras.layers.UpSampling2D((2, 2)),\r\n",
    "    tf.keras.layers.Conv2D(16, (3, 3), activation='relu', padding='same'),\r\n",
    "    tf.keras.layers.UpSampling2D((2, 2)),\r\n",
    "    tf.keras.layers.Conv2D(2, (3, 3), activation='tanh', padding='same')\r\n",
    "])"
   ],
   "outputs": [],
   "metadata": {}
  },
  {
   "cell_type": "markdown",
   "source": [
    "## Compile the model"
   ],
   "metadata": {}
  },
  {
   "cell_type": "code",
   "execution_count": 45,
   "source": [
    "model.compile(optimizer='rmsprop',loss='mse',metrics=['accuracy'])"
   ],
   "outputs": [],
   "metadata": {}
  },
  {
   "cell_type": "markdown",
   "source": [
    "## Train the model"
   ],
   "metadata": {}
  },
  {
   "cell_type": "code",
   "execution_count": 46,
   "source": [
    "model.fit(x=input, y=output, batch_size=1, epochs=100)"
   ],
   "outputs": [
    {
     "output_type": "stream",
     "name": "stdout",
     "text": [
      "Epoch 1/100\n",
      "1/1 [==============================] - 0s 2ms/step - loss: 0.3206 - accuracy: 0.6197\n",
      "Epoch 2/100\n",
      "1/1 [==============================] - 0s 4ms/step - loss: 0.2967 - accuracy: 0.5490\n",
      "Epoch 3/100\n",
      "1/1 [==============================] - 0s 6ms/step - loss: 0.0431 - accuracy: 0.5372\n",
      "Epoch 4/100\n",
      "1/1 [==============================] - 0s 998us/step - loss: 0.0332 - accuracy: 0.5358\n",
      "Epoch 5/100\n",
      "1/1 [==============================] - 0s 5ms/step - loss: 0.0316 - accuracy: 0.5292\n",
      "Epoch 6/100\n",
      "1/1 [==============================] - 0s 4ms/step - loss: 0.0334 - accuracy: 0.5483\n",
      "Epoch 7/100\n",
      "1/1 [==============================] - 0s 4ms/step - loss: 0.0316 - accuracy: 0.5746\n",
      "Epoch 8/100\n",
      "1/1 [==============================] - 0s 5ms/step - loss: 0.0506 - accuracy: 0.5489\n",
      "Epoch 9/100\n",
      "1/1 [==============================] - 0s 4ms/step - loss: 0.0349 - accuracy: 0.4906\n",
      "Epoch 10/100\n",
      "1/1 [==============================] - 0s 3ms/step - loss: 0.0310 - accuracy: 0.5477\n",
      "Epoch 11/100\n",
      "1/1 [==============================] - 0s 4ms/step - loss: 0.0290 - accuracy: 0.5493\n",
      "Epoch 12/100\n",
      "1/1 [==============================] - 0s 2ms/step - loss: 0.0284 - accuracy: 0.5489\n",
      "Epoch 13/100\n",
      "1/1 [==============================] - 0s 2ms/step - loss: 0.0280 - accuracy: 0.5504\n",
      "Epoch 14/100\n",
      "1/1 [==============================] - 0s 2ms/step - loss: 0.0279 - accuracy: 0.5519\n",
      "Epoch 15/100\n",
      "1/1 [==============================] - 0s 2ms/step - loss: 0.0268 - accuracy: 0.5516\n",
      "Epoch 16/100\n",
      "1/1 [==============================] - 0s 997us/step - loss: 0.0269 - accuracy: 0.5518\n",
      "Epoch 17/100\n",
      "1/1 [==============================] - 0s 2ms/step - loss: 0.0270 - accuracy: 0.5652\n",
      "Epoch 18/100\n",
      "1/1 [==============================] - 0s 4ms/step - loss: 0.0238 - accuracy: 0.5539\n",
      "Epoch 19/100\n",
      "1/1 [==============================] - 0s 2ms/step - loss: 0.0399 - accuracy: 0.6411\n",
      "Epoch 20/100\n",
      "1/1 [==============================] - 0s 999us/step - loss: 0.0282 - accuracy: 0.5490\n",
      "Epoch 21/100\n",
      "1/1 [==============================] - 0s 2ms/step - loss: 0.0248 - accuracy: 0.5497\n",
      "Epoch 22/100\n",
      "1/1 [==============================] - 0s 2ms/step - loss: 0.0239 - accuracy: 0.5498\n",
      "Epoch 23/100\n",
      "1/1 [==============================] - 0s 997us/step - loss: 0.0264 - accuracy: 0.6081\n",
      "Epoch 24/100\n",
      "1/1 [==============================] - 0s 2ms/step - loss: 0.0240 - accuracy: 0.5490\n",
      "Epoch 25/100\n",
      "1/1 [==============================] - 0s 2ms/step - loss: 0.0235 - accuracy: 0.6130\n",
      "Epoch 26/100\n",
      "1/1 [==============================] - 0s 2ms/step - loss: 0.0292 - accuracy: 0.5490\n",
      "Epoch 27/100\n",
      "1/1 [==============================] - 0s 997us/step - loss: 0.0305 - accuracy: 0.7888\n",
      "Epoch 28/100\n",
      "1/1 [==============================] - 0s 3ms/step - loss: 0.0260 - accuracy: 0.5492\n",
      "Epoch 29/100\n",
      "1/1 [==============================] - 0s 2ms/step - loss: 0.0249 - accuracy: 0.5546\n",
      "Epoch 30/100\n",
      "1/1 [==============================] - 0s 2ms/step - loss: 0.0311 - accuracy: 0.5502\n",
      "Epoch 31/100\n",
      "1/1 [==============================] - 0s 2ms/step - loss: 0.0258 - accuracy: 0.5525\n",
      "Epoch 32/100\n",
      "1/1 [==============================] - 0s 997us/step - loss: 0.0262 - accuracy: 0.5491\n",
      "Epoch 33/100\n",
      "1/1 [==============================] - 0s 2ms/step - loss: 0.0245 - accuracy: 0.5592\n",
      "Epoch 34/100\n",
      "1/1 [==============================] - 0s 2ms/step - loss: 0.0222 - accuracy: 0.9043\n",
      "Epoch 35/100\n",
      "1/1 [==============================] - 0s 997us/step - loss: 0.0358 - accuracy: 0.5490\n",
      "Epoch 36/100\n",
      "1/1 [==============================] - 0s 2ms/step - loss: 0.0275 - accuracy: 0.8943\n",
      "Epoch 37/100\n",
      "1/1 [==============================] - 0s 2ms/step - loss: 0.0267 - accuracy: 0.5490\n",
      "Epoch 38/100\n",
      "1/1 [==============================] - 0s 2ms/step - loss: 0.0230 - accuracy: 0.5710\n",
      "Epoch 39/100\n",
      "1/1 [==============================] - 0s 5ms/step - loss: 0.0213 - accuracy: 0.8793\n",
      "Epoch 40/100\n",
      "1/1 [==============================] - 0s 2ms/step - loss: 0.0242 - accuracy: 0.5490\n",
      "Epoch 41/100\n",
      "1/1 [==============================] - 0s 2ms/step - loss: 0.0216 - accuracy: 0.8288\n",
      "Epoch 42/100\n",
      "1/1 [==============================] - 0s 2ms/step - loss: 0.0261 - accuracy: 0.5490\n",
      "Epoch 43/100\n",
      "1/1 [==============================] - 0s 2ms/step - loss: 0.0222 - accuracy: 0.5496\n",
      "Epoch 44/100\n",
      "1/1 [==============================] - 0s 997us/step - loss: 0.0194 - accuracy: 0.9231\n",
      "Epoch 45/100\n",
      "1/1 [==============================] - 0s 998us/step - loss: 0.0271 - accuracy: 0.5490\n",
      "Epoch 46/100\n",
      "1/1 [==============================] - 0s 2ms/step - loss: 0.0221 - accuracy: 0.5491\n",
      "Epoch 47/100\n",
      "1/1 [==============================] - 0s 998us/step - loss: 0.0196 - accuracy: 0.9220\n",
      "Epoch 48/100\n",
      "1/1 [==============================] - 0s 997us/step - loss: 0.0292 - accuracy: 0.5490\n",
      "Epoch 49/100\n",
      "1/1 [==============================] - 0s 2ms/step - loss: 0.0251 - accuracy: 0.5490\n",
      "Epoch 50/100\n",
      "1/1 [==============================] - 0s 2ms/step - loss: 0.0230 - accuracy: 0.5490\n",
      "Epoch 51/100\n",
      "1/1 [==============================] - 0s 2ms/step - loss: 0.0249 - accuracy: 0.5490\n",
      "Epoch 52/100\n",
      "1/1 [==============================] - 0s 998us/step - loss: 0.0244 - accuracy: 0.5490\n",
      "Epoch 53/100\n",
      "1/1 [==============================] - 0s 999us/step - loss: 0.0207 - accuracy: 0.5501\n",
      "Epoch 54/100\n",
      "1/1 [==============================] - 0s 998us/step - loss: 0.0187 - accuracy: 0.5490\n",
      "Epoch 55/100\n",
      "1/1 [==============================] - 0s 998us/step - loss: 0.0173 - accuracy: 0.5491\n",
      "Epoch 56/100\n",
      "1/1 [==============================] - 0s 998us/step - loss: 0.0263 - accuracy: 0.8413\n",
      "Epoch 57/100\n",
      "1/1 [==============================] - 0s 997us/step - loss: 0.1287 - accuracy: 0.5490\n",
      "Epoch 58/100\n",
      "1/1 [==============================] - 0s 998us/step - loss: 0.0307 - accuracy: 0.5473\n",
      "Epoch 59/100\n",
      "1/1 [==============================] - 0s 997us/step - loss: 0.0265 - accuracy: 0.5490\n",
      "Epoch 60/100\n",
      "1/1 [==============================] - 0s 2ms/step - loss: 0.0241 - accuracy: 0.5490\n",
      "Epoch 61/100\n",
      "1/1 [==============================] - 0s 2ms/step - loss: 0.0225 - accuracy: 0.5490\n",
      "Epoch 62/100\n",
      "1/1 [==============================] - 0s 997us/step - loss: 0.0236 - accuracy: 0.5490\n",
      "Epoch 63/100\n",
      "1/1 [==============================] - 0s 998us/step - loss: 0.0217 - accuracy: 0.5490\n",
      "Epoch 64/100\n",
      "1/1 [==============================] - 0s 2ms/step - loss: 0.0213 - accuracy: 0.5490\n",
      "Epoch 65/100\n",
      "1/1 [==============================] - 0s 997us/step - loss: 0.0203 - accuracy: 0.5490\n",
      "Epoch 66/100\n",
      "1/1 [==============================] - 0s 997us/step - loss: 0.0200 - accuracy: 0.5490\n",
      "Epoch 67/100\n",
      "1/1 [==============================] - 0s 997us/step - loss: 0.0182 - accuracy: 0.5490\n",
      "Epoch 68/100\n",
      "1/1 [==============================] - 0s 2ms/step - loss: 0.0169 - accuracy: 0.5490\n",
      "Epoch 69/100\n",
      "1/1 [==============================] - 0s 2ms/step - loss: 0.0155 - accuracy: 0.5490\n",
      "Epoch 70/100\n",
      "1/1 [==============================] - 0s 2ms/step - loss: 0.0162 - accuracy: 0.5490\n",
      "Epoch 71/100\n",
      "1/1 [==============================] - 0s 1000us/step - loss: 0.0178 - accuracy: 0.5533\n",
      "Epoch 72/100\n",
      "1/1 [==============================] - 0s 2ms/step - loss: 0.0147 - accuracy: 0.5494\n",
      "Epoch 73/100\n",
      "1/1 [==============================] - 0s 2ms/step - loss: 0.0169 - accuracy: 0.9274\n",
      "Epoch 74/100\n",
      "1/1 [==============================] - 0s 998us/step - loss: 0.0162 - accuracy: 0.5490\n",
      "Epoch 75/100\n",
      "1/1 [==============================] - 0s 999us/step - loss: 0.0195 - accuracy: 0.5599\n",
      "Epoch 76/100\n",
      "1/1 [==============================] - 0s 3ms/step - loss: 0.0404 - accuracy: 0.7257\n",
      "Epoch 77/100\n",
      "1/1 [==============================] - 0s 2ms/step - loss: 0.0159 - accuracy: 0.5490\n",
      "Epoch 78/100\n",
      "1/1 [==============================] - 0s 2ms/step - loss: 0.0154 - accuracy: 0.5497\n",
      "Epoch 79/100\n",
      "1/1 [==============================] - 0s 998us/step - loss: 0.0118 - accuracy: 0.5490\n",
      "Epoch 80/100\n",
      "1/1 [==============================] - 0s 2ms/step - loss: 0.0093 - accuracy: 0.5500\n",
      "Epoch 81/100\n",
      "1/1 [==============================] - 0s 998us/step - loss: 0.0096 - accuracy: 0.5490\n",
      "Epoch 82/100\n",
      "1/1 [==============================] - 0s 997us/step - loss: 0.0129 - accuracy: 0.6326\n",
      "Epoch 83/100\n",
      "1/1 [==============================] - 0s 2ms/step - loss: 0.0089 - accuracy: 0.6236\n",
      "Epoch 84/100\n",
      "1/1 [==============================] - 0s 998us/step - loss: 0.0093 - accuracy: 0.9007\n",
      "Epoch 85/100\n",
      "1/1 [==============================] - 0s 997us/step - loss: 0.0075 - accuracy: 0.8763\n",
      "Epoch 86/100\n",
      "1/1 [==============================] - 0s 997us/step - loss: 0.0082 - accuracy: 0.9264\n",
      "Epoch 87/100\n",
      "1/1 [==============================] - 0s 2ms/step - loss: 0.0069 - accuracy: 0.8997\n",
      "Epoch 88/100\n",
      "1/1 [==============================] - 0s 2ms/step - loss: 0.0080 - accuracy: 0.9377\n",
      "Epoch 89/100\n",
      "1/1 [==============================] - 0s 997us/step - loss: 0.0063 - accuracy: 0.9080\n",
      "Epoch 90/100\n",
      "1/1 [==============================] - 0s 997us/step - loss: 0.0070 - accuracy: 0.9421\n",
      "Epoch 91/100\n",
      "1/1 [==============================] - 0s 997us/step - loss: 0.0058 - accuracy: 0.9132\n",
      "Epoch 92/100\n",
      "1/1 [==============================] - 0s 996us/step - loss: 0.0064 - accuracy: 0.9434\n",
      "Epoch 93/100\n",
      "1/1 [==============================] - 0s 2ms/step - loss: 0.0055 - accuracy: 0.9267\n",
      "Epoch 94/100\n",
      "1/1 [==============================] - 0s 2ms/step - loss: 0.0061 - accuracy: 0.9465\n",
      "Epoch 95/100\n",
      "1/1 [==============================] - 0s 2ms/step - loss: 0.0053 - accuracy: 0.9164\n",
      "Epoch 96/100\n",
      "1/1 [==============================] - 0s 2ms/step - loss: 0.0058 - accuracy: 0.9515\n",
      "Epoch 97/100\n",
      "1/1 [==============================] - 0s 996us/step - loss: 0.0081 - accuracy: 0.7431\n",
      "Epoch 98/100\n",
      "1/1 [==============================] - 0s 2ms/step - loss: 0.0636 - accuracy: 0.6767\n",
      "Epoch 99/100\n",
      "1/1 [==============================] - 0s 998us/step - loss: 0.0219 - accuracy: 0.5490\n",
      "Epoch 100/100\n",
      "1/1 [==============================] - 0s 3ms/step - loss: 0.0138 - accuracy: 0.7715\n"
     ]
    },
    {
     "output_type": "execute_result",
     "data": {
      "text/plain": [
       "<tensorflow.python.keras.callbacks.History at 0x2678faf0c08>"
      ]
     },
     "metadata": {},
     "execution_count": 46
    }
   ],
   "metadata": {}
  },
  {
   "cell_type": "markdown",
   "source": [
    "## Evaluate the model"
   ],
   "metadata": {}
  },
  {
   "cell_type": "code",
   "execution_count": 47,
   "source": [
    "model.evaluate(input, output, batch_size=1, verbose=2)"
   ],
   "outputs": [
    {
     "output_type": "stream",
     "name": "stdout",
     "text": [
      "1/1 - 0s - loss: 0.0069 - accuracy: 0.8990\n"
     ]
    },
    {
     "output_type": "execute_result",
     "data": {
      "text/plain": [
       "[0.00685169966891408, 0.8990437388420105]"
      ]
     },
     "metadata": {},
     "execution_count": 47
    }
   ],
   "metadata": {}
  },
  {
   "cell_type": "markdown",
   "source": [
    "## Colorizing images using the model"
   ],
   "metadata": {}
  },
  {
   "cell_type": "markdown",
   "source": [
    "Let's colorize the image we used to train the model on."
   ],
   "metadata": {}
  },
  {
   "cell_type": "code",
   "execution_count": 49,
   "source": [
    "result = model.predict(input)\r\n",
    "result *= 128\r\n",
    "colorized_img = np.zeros((400, 400, 3))\r\n",
    "colorized_img[:,:,0] = input[0][:,:,0]\r\n",
    "colorized_img[:,:,1:] = result[0]\r\n",
    "imsave(\"original_img.png\", resize(image, (400, 400, 3)))\r\n",
    "imsave(\"colorized_img.png\", lab2rgb(colorized_img))\r\n",
    "imsave(\"grayscale_img.png\", rgb2gray(lab2rgb(colorized_img)))"
   ],
   "outputs": [
    {
     "output_type": "stream",
     "name": "stderr",
     "text": [
      "Lossy conversion from float64 to uint8. Range [0.18796588134546266, 212.59868580095446]. Convert image to uint8 prior to saving to suppress this warning.\n",
      "C:\\Program Files\\Microsoft Visual Studio\\Shared\\Python37_64\\lib\\site-packages\\skimage\\color\\colorconv.py:1128: UserWarning: Color data out of range: Z < 0 in 2 pixels\n",
      "  return xyz2rgb(lab2xyz(lab, illuminant, observer))\n",
      "Lossy conversion from float64 to uint8. Range [0, 1]. Convert image to uint8 prior to saving to suppress this warning.\n",
      "Lossy conversion from float64 to uint8. Range [0, 1]. Convert image to uint8 prior to saving to suppress this warning.\n"
     ]
    }
   ],
   "metadata": {}
  },
  {
   "cell_type": "markdown",
   "source": [
    "Even though our model was able to colorize the image pretty well, it is still a weak neural network. To understand this, try colorizing images the model has not been trained on."
   ],
   "metadata": {}
  },
  {
   "cell_type": "code",
   "execution_count": 53,
   "source": [
    "url = 'https://encrypted-tbn0.gstatic.com/images?q=tbn:ANd9GcS_kjXxkqXog81CD2olSDquVyi92iu-GVCH0w&usqp=CAU'"
   ],
   "outputs": [],
   "metadata": {}
  },
  {
   "cell_type": "code",
   "execution_count": 54,
   "source": [
    "image = Image.open(requests.get(url, stream=True).raw)\r\n",
    "image = keras.preprocessing.image.img_to_array(image)\r\n",
    "image = np.array(image, dtype=float)"
   ],
   "outputs": [],
   "metadata": {}
  },
  {
   "cell_type": "code",
   "execution_count": 55,
   "source": [
    "input = rgb2lab(1.0/255*image)[:,:,0]\r\n",
    "input = resize(input, (400, 400))\r\n",
    "input = input.reshape(1, 400, 400, 1)"
   ],
   "outputs": [],
   "metadata": {}
  },
  {
   "cell_type": "code",
   "execution_count": 56,
   "source": [
    "result = model.predict(input)\r\n",
    "result *= 128\r\n",
    "colorized_img = np.zeros((400, 400, 3))\r\n",
    "colorized_img[:,:,0] = input[0][:,:,0]\r\n",
    "colorized_img[:,:,1:] = result[0]\r\n",
    "imsave(\"original_img.png\", resize(image, (400, 400, 3)))\r\n",
    "imsave(\"colorized_img.png\", lab2rgb(colorized_img))\r\n",
    "imsave(\"grayscale_img.png\", rgb2gray(lab2rgb(colorized_img)))\r\n"
   ],
   "outputs": [
    {
     "output_type": "stream",
     "name": "stderr",
     "text": [
      "Lossy conversion from float64 to uint8. Range [0.0, 255.0]. Convert image to uint8 prior to saving to suppress this warning.\n",
      "Lossy conversion from float64 to uint8. Range [0, 1]. Convert image to uint8 prior to saving to suppress this warning.\n",
      "Lossy conversion from float64 to uint8. Range [0, 1]. Convert image to uint8 prior to saving to suppress this warning.\n"
     ]
    }
   ],
   "metadata": {}
  },
  {
   "cell_type": "markdown",
   "source": [
    "We will use a Kaggle dataset of [landscape pictures]('https://www.kaggle.com/arnaud58/landscape-pictures') for our training images."
   ],
   "metadata": {}
  },
  {
   "cell_type": "code",
   "execution_count": null,
   "source": [
    "img_dataset = []\r\n"
   ],
   "outputs": [],
   "metadata": {}
  }
 ],
 "metadata": {
  "interpreter": {
   "hash": "06014547589a61cba93326921aada2d9c2673a5830f6a0df3bac1f8e2dca027d"
  },
  "kernelspec": {
   "display_name": "Python 3.7.9 64-bit",
   "name": "python3"
  },
  "language_info": {
   "codemirror_mode": {
    "name": "ipython",
    "version": 3
   },
   "file_extension": ".py",
   "mimetype": "text/x-python",
   "name": "python",
   "nbconvert_exporter": "python",
   "pygments_lexer": "ipython3",
   "version": "3.7.9"
  },
  "orig_nbformat": 4
 },
 "nbformat": 4,
 "nbformat_minor": 2
}